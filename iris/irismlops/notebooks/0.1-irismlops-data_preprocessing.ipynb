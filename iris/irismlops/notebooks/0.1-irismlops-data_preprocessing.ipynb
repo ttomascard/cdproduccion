{
 "cells": [
  {
   "cell_type": "markdown",
   "metadata": {},
   "source": [
    "# Data Preprocessing\n",
    "\n",
    "This notebook handles data cleaning, missing value imputation, feature encoding, and scaling."
   ]
  },
  {
   "cell_type": "code",
   "execution_count": null,
   "metadata": {},
   "outputs": [],
   "source": [
    "# Import necessary libraries\n",
    "import pandas as pd\n",
    "from src.data_loading import load_data\n",
    "from src.data_preprocessing import (\n",
    "    handle_missing_values,\n",
    "    encode_categorical_variables,\n",
    "    scale_numerical_features,\n",
    ")\n",
    "\n",
    "# Load the dataset\n",
    "df = load_data('../data/raw/dataset.csv')\n",
    "\n",
    "# Handle missing values\n",
    "df_cleaned = handle_missing_values(df)\n",
    "\n",
    "# Encode categorical variables\n",
    "df_encoded = encode_categorical_variables(df_cleaned)\n",
    "\n",
    "# Scale numerical features\n",
    "df_scaled = scale_numerical_features(df_encoded)\n",
    "\n",
    "# Save the processed data\n",
    "df_scaled.to_csv('../data/processed/processed_data.csv', index=False)\n",
    "\n",
    "# Display the first few rows of the processed data\n",
    "df_scaled.head()"
   ]
  }
 ],
 "metadata": {
  "language_info": {
   "name": "python"
  }
 },
 "nbformat": 4,
 "nbformat_minor": 2
}
